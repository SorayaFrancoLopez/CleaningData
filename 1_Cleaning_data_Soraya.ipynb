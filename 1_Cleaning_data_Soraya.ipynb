{
 "cells": [
  {
   "attachments": {},
   "cell_type": "markdown",
   "metadata": {},
   "source": [
    "LIMPIEZA DE DATOS EN EL DATAFRAME.\n",
    "- `movie_title`         DONE\n",
    "- `title_year`          DONE\n",
    "- `movie_twitter_likes` DONE\n",
    "- `imdb_score`          DONE\n",
    "- `country`             DONE\n",
    "- `language`            DONE\n",
    "- `actors`              DONE\n",
    "- `movie_facebook_likes`DONE\n",
    "- `duration`            DONE"
   ]
  },
  {
   "cell_type": "code",
   "execution_count": 44,
   "metadata": {},
   "outputs": [],
   "source": [
    "import pandas as pd\n",
    "import numpy as np\n",
    "df = pd.read_csv(\"data/imdb_clase.csv\", sep=\";\", index_col=0).reset_index(drop=True) "
   ]
  },
  {
   "cell_type": "code",
   "execution_count": 45,
   "metadata": {},
   "outputs": [],
   "source": [
    "#Eliminamos las filas duplicadas.\n",
    "df['movie_title'] = df['movie_title'].drop_duplicates()\n",
    "df = df.drop_duplicates().reset_index(drop=True)"
   ]
  },
  {
   "cell_type": "code",
   "execution_count": 46,
   "metadata": {},
   "outputs": [],
   "source": [
    "# Eliminar las filas donde 'movie_title' es \"No available\"\n",
    "df = df.drop(df.loc[df['movie_title'] == 'No available'].index)\n",
    "df = df.dropna(subset=['movie_title'])\n",
    "\n",
    "# Reiniciar los índices del DataFrame resultante\n",
    "df = df.reset_index(drop=True)"
   ]
  },
  {
   "cell_type": "code",
   "execution_count": 47,
   "metadata": {},
   "outputs": [],
   "source": [
    "df['movie_title'] = df['movie_title'].str.strip().str.capitalize()\n",
    "\n",
    "# df['movie_title'] = df['movie_title'].apply(lambda x: ' '.join(word.capitalize() for word in x.split()))\n",
    "#Esto pondría todas las palabras capitalizadas, pero no sé si es conveniente en este caso. Desconozco cual es la convención para esto."
   ]
  },
  {
   "cell_type": "code",
   "execution_count": 48,
   "metadata": {},
   "outputs": [],
   "source": [
    "#Hay algunos nombres propios que deben ir en MAYUSCULAS. Creamos una lista con esas palabras.\n",
    "\n",
    "word = ['superman', 'batman', 'harry', 'potter', 'wall', 'street', 'man', 'smaug', 'avengers', 'god','west', 'hood', 'gatsby', 'spider', \n",
    "        'hur', 'phillips', 'turner', 'america', 'ultron', 'jones', 'edgar', 'wolverine', 'bourne', 'caribbean', 'apocalypse']\n",
    "\n",
    "# Buscamos las palabras en la columna 'movie_title' y ponerlas en mayusculas si se encuentran.\n",
    "\n",
    "regex = '|'.join(word)\n",
    "df['movie_title'] = df['movie_title'].str.replace(regex, lambda x: x.group().capitalize(), case=False, regex=True)"
   ]
  },
  {
   "attachments": {},
   "cell_type": "markdown",
   "metadata": {},
   "source": [
    "COLUMNA `title_year`"
   ]
  },
  {
   "cell_type": "code",
   "execution_count": 49,
   "metadata": {},
   "outputs": [
    {
     "name": "stdout",
     "output_type": "stream",
     "text": [
      "title_year\n",
      " 2014    21\n",
      " 2012    18\n",
      " 2013    17\n",
      " 2011    10\n",
      " 2015     8\n",
      " 2010     7\n",
      " 2016     5\n",
      " 202      1\n",
      "-1000     1\n",
      " 2030     1\n",
      " 1800     1\n",
      " 205      1\n",
      "Name: count, dtype: int64\n"
     ]
    }
   ],
   "source": [
    "with pd.option_context(\"display.max_rows\", None):\n",
    "    print(df.title_year.value_counts(dropna=False))"
   ]
  },
  {
   "cell_type": "code",
   "execution_count": 50,
   "metadata": {},
   "outputs": [
    {
     "data": {
      "text/html": [
       "<div>\n",
       "<style scoped>\n",
       "    .dataframe tbody tr th:only-of-type {\n",
       "        vertical-align: middle;\n",
       "    }\n",
       "\n",
       "    .dataframe tbody tr th {\n",
       "        vertical-align: top;\n",
       "    }\n",
       "\n",
       "    .dataframe thead th {\n",
       "        text-align: right;\n",
       "    }\n",
       "</style>\n",
       "<table border=\"1\" class=\"dataframe\">\n",
       "  <thead>\n",
       "    <tr style=\"text-align: right;\">\n",
       "      <th></th>\n",
       "      <th>color</th>\n",
       "      <th>director_name</th>\n",
       "      <th>duration</th>\n",
       "      <th>gross</th>\n",
       "      <th>genres</th>\n",
       "      <th>movie_title</th>\n",
       "      <th>title_year</th>\n",
       "      <th>language</th>\n",
       "      <th>country</th>\n",
       "      <th>budget</th>\n",
       "      <th>imdb_score</th>\n",
       "      <th>actors</th>\n",
       "      <th>movie_facebook_likes</th>\n",
       "      <th>movie_twitter_likes</th>\n",
       "    </tr>\n",
       "  </thead>\n",
       "  <tbody>\n",
       "    <tr>\n",
       "      <th>64</th>\n",
       "      <td>Color</td>\n",
       "      <td>NaN</td>\n",
       "      <td>139</td>\n",
       "      <td>$150,832,203.00</td>\n",
       "      <td>Adventure|Mystery|Sci-Fi</td>\n",
       "      <td>Divergent</td>\n",
       "      <td>1800</td>\n",
       "      <td>English</td>\n",
       "      <td>USA</td>\n",
       "      <td>USD 85,000,000.00</td>\n",
       "      <td>6.7</td>\n",
       "      <td>Kate Winslet,Theo James,Mekhi Phifer</td>\n",
       "      <td>49000</td>\n",
       "      <td>1000</td>\n",
       "    </tr>\n",
       "  </tbody>\n",
       "</table>\n",
       "</div>"
      ],
      "text/plain": [
       "    color director_name  duration            gross                    genres   \n",
       "64  Color           NaN       139  $150,832,203.00  Adventure|Mystery|Sci-Fi  \\\n",
       "\n",
       "   movie_title  title_year language country             budget  imdb_score   \n",
       "64   Divergent        1800  English     USA  USD 85,000,000.00         6.7  \\\n",
       "\n",
       "                                  actors  movie_facebook_likes   \n",
       "64  Kate Winslet,Theo James,Mekhi Phifer                 49000  \\\n",
       "\n",
       "    movie_twitter_likes  \n",
       "64                 1000  "
      ]
     },
     "execution_count": 50,
     "metadata": {},
     "output_type": "execute_result"
    }
   ],
   "source": [
    "df.loc[df['title_year'] == 1800] "
   ]
  },
  {
   "cell_type": "code",
   "execution_count": 51,
   "metadata": {},
   "outputs": [],
   "source": [
    "df.loc[df['title_year'] == 1800, 'title_year'] = 2014"
   ]
  },
  {
   "cell_type": "code",
   "execution_count": 52,
   "metadata": {},
   "outputs": [],
   "source": [
    "df.loc[(df['title_year'] < 2010) | (df['title_year'] > 2023), 'title_year'] = np.NaN\n",
    "\n",
    "#En este caso no sé si sería mejor dejarlos como NaN, con un string tipo \"No available\" o añadir el año tal y como se ha hecho en el anterior."
   ]
  },
  {
   "cell_type": "code",
   "execution_count": 53,
   "metadata": {},
   "outputs": [
    {
     "data": {
      "text/html": [
       "<div>\n",
       "<style scoped>\n",
       "    .dataframe tbody tr th:only-of-type {\n",
       "        vertical-align: middle;\n",
       "    }\n",
       "\n",
       "    .dataframe tbody tr th {\n",
       "        vertical-align: top;\n",
       "    }\n",
       "\n",
       "    .dataframe thead th {\n",
       "        text-align: right;\n",
       "    }\n",
       "</style>\n",
       "<table border=\"1\" class=\"dataframe\">\n",
       "  <thead>\n",
       "    <tr style=\"text-align: right;\">\n",
       "      <th></th>\n",
       "      <th>color</th>\n",
       "      <th>director_name</th>\n",
       "      <th>duration</th>\n",
       "      <th>gross</th>\n",
       "      <th>genres</th>\n",
       "      <th>movie_title</th>\n",
       "      <th>title_year</th>\n",
       "      <th>language</th>\n",
       "      <th>country</th>\n",
       "      <th>budget</th>\n",
       "      <th>imdb_score</th>\n",
       "      <th>actors</th>\n",
       "      <th>movie_facebook_likes</th>\n",
       "      <th>movie_twitter_likes</th>\n",
       "    </tr>\n",
       "  </thead>\n",
       "  <tbody>\n",
       "    <tr>\n",
       "      <th>5</th>\n",
       "      <td>NaN</td>\n",
       "      <td>NaN</td>\n",
       "      <td>183</td>\n",
       "      <td>$330,249,062.00</td>\n",
       "      <td>Action|Adventure|Sci-Fi</td>\n",
       "      <td>Batman v Superman: dawn of justice</td>\n",
       "      <td>NaN</td>\n",
       "      <td>English</td>\n",
       "      <td>USA</td>\n",
       "      <td>USD 250,000,000.00</td>\n",
       "      <td>6.9</td>\n",
       "      <td>Henry Cavill,Lauren Cohan,Alan D. Purwin</td>\n",
       "      <td>197000</td>\n",
       "      <td>1000</td>\n",
       "    </tr>\n",
       "    <tr>\n",
       "      <th>19</th>\n",
       "      <td>Color</td>\n",
       "      <td>Tom Hooper</td>\n",
       "      <td>158</td>\n",
       "      <td>$148,775,460.00</td>\n",
       "      <td>Drama|Musical|Romance</td>\n",
       "      <td>Les misérables</td>\n",
       "      <td>NaN</td>\n",
       "      <td>English</td>\n",
       "      <td>USA</td>\n",
       "      <td>USD 61,000,000.00</td>\n",
       "      <td>7.6</td>\n",
       "      <td>Hugh Jackman,Eddie Redmayne,Anne Hathaway</td>\n",
       "      <td>144000</td>\n",
       "      <td>1000</td>\n",
       "    </tr>\n",
       "    <tr>\n",
       "      <th>55</th>\n",
       "      <td>Color</td>\n",
       "      <td>Joss Whedon</td>\n",
       "      <td>141</td>\n",
       "      <td>$458,991,599.00</td>\n",
       "      <td>Action|Adventure|Sci-Fi</td>\n",
       "      <td>Avengers: age of Ultron</td>\n",
       "      <td>NaN</td>\n",
       "      <td>English</td>\n",
       "      <td>USA</td>\n",
       "      <td>USD 250,000,000.00</td>\n",
       "      <td>7.5</td>\n",
       "      <td>Chris Hemsworth,Robert Downey Jr.,Scarlett Joh...</td>\n",
       "      <td>118000</td>\n",
       "      <td>1000</td>\n",
       "    </tr>\n",
       "    <tr>\n",
       "      <th>74</th>\n",
       "      <td>Color</td>\n",
       "      <td>Daniel Espinosa</td>\n",
       "      <td>137</td>\n",
       "      <td>$1,206,135.00</td>\n",
       "      <td>Crime|Drama|Thriller</td>\n",
       "      <td>Child 44</td>\n",
       "      <td>NaN</td>\n",
       "      <td>English</td>\n",
       "      <td>Czech Republic</td>\n",
       "      <td>USD 50,000,000.00</td>\n",
       "      <td>6.4</td>\n",
       "      <td>Tom Hardy,Fares Fares,Michael Nardone</td>\n",
       "      <td>18000</td>\n",
       "      <td>1000</td>\n",
       "    </tr>\n",
       "  </tbody>\n",
       "</table>\n",
       "</div>"
      ],
      "text/plain": [
       "    color    director_name  duration            gross   \n",
       "5     NaN              NaN       183  $330,249,062.00  \\\n",
       "19  Color       Tom Hooper       158  $148,775,460.00   \n",
       "55  Color      Joss Whedon       141  $458,991,599.00   \n",
       "74  Color  Daniel Espinosa       137    $1,206,135.00   \n",
       "\n",
       "                     genres                         movie_title  title_year   \n",
       "5   Action|Adventure|Sci-Fi  Batman v Superman: dawn of justice         NaN  \\\n",
       "19    Drama|Musical|Romance                      Les misérables         NaN   \n",
       "55  Action|Adventure|Sci-Fi             Avengers: age of Ultron         NaN   \n",
       "74     Crime|Drama|Thriller                            Child 44         NaN   \n",
       "\n",
       "   language         country              budget  imdb_score   \n",
       "5   English             USA  USD 250,000,000.00         6.9  \\\n",
       "19  English             USA   USD 61,000,000.00         7.6   \n",
       "55  English             USA  USD 250,000,000.00         7.5   \n",
       "74  English  Czech Republic   USD 50,000,000.00         6.4   \n",
       "\n",
       "                                               actors  movie_facebook_likes   \n",
       "5            Henry Cavill,Lauren Cohan,Alan D. Purwin                197000  \\\n",
       "19          Hugh Jackman,Eddie Redmayne,Anne Hathaway                144000   \n",
       "55  Chris Hemsworth,Robert Downey Jr.,Scarlett Joh...                118000   \n",
       "74              Tom Hardy,Fares Fares,Michael Nardone                 18000   \n",
       "\n",
       "    movie_twitter_likes  \n",
       "5                  1000  \n",
       "19                 1000  \n",
       "55                 1000  \n",
       "74                 1000  "
      ]
     },
     "execution_count": 53,
     "metadata": {},
     "output_type": "execute_result"
    }
   ],
   "source": [
    "#He decidido buscar los datos correctos y modificarlos tal y como se ha hecho en la pelicula aterior df.loc[df['title_year'] == 1800, 'title_year'] = 2014\n",
    "#Son solo cuatro datos nulos y no lleva mucho tiempo ademas creo que así funcionará mucho mejor para analisis posteriores.\n",
    "df.loc[df.title_year.isnull()]"
   ]
  },
  {
   "cell_type": "code",
   "execution_count": 54,
   "metadata": {},
   "outputs": [],
   "source": [
    "# Batman v Superman: dawn of justice.\n",
    "df.iloc[5,6] = 2016\n",
    "# Les misérables\n",
    "df.iloc[19,6] = 2012\n",
    "# Avengers: age of Ultron\n",
    "df.iloc[55,6] = 2015\n",
    "# Child 44\n",
    "df.iloc[74,6] = 2015"
   ]
  },
  {
   "cell_type": "code",
   "execution_count": 55,
   "metadata": {},
   "outputs": [
    {
     "name": "stdout",
     "output_type": "stream",
     "text": [
      "title_year\n",
      "2014.0    22\n",
      "2012.0    19\n",
      "2013.0    17\n",
      "2015.0    10\n",
      "2011.0    10\n",
      "2010.0     7\n",
      "2016.0     6\n",
      "Name: count, dtype: int64\n"
     ]
    }
   ],
   "source": [
    "with pd.option_context(\"display.max_rows\", None):\n",
    "    print(df.title_year.value_counts(dropna=False))"
   ]
  },
  {
   "cell_type": "code",
   "execution_count": 56,
   "metadata": {},
   "outputs": [],
   "source": [
    "#Lo convertimos en números enteros.\n",
    "df['title_year'] = df['title_year'].astype(int)"
   ]
  },
  {
   "attachments": {},
   "cell_type": "markdown",
   "metadata": {},
   "source": [
    "COLUMNA `movie_twitter_likes`"
   ]
  },
  {
   "cell_type": "code",
   "execution_count": 57,
   "metadata": {},
   "outputs": [],
   "source": [
    "#He visto que todos los valores de esta columna era el mismo y ese dato no sirve asi.\n",
    "#He considerado dejar toda la columna como nula por si más adelante nos pasasen ese dato poder agregarlo.\n",
    "df['movie_twitter_likes'] = np.nan\n",
    "\n",
    "# Para eliminarlo df = df.drop('movie_twitter_likes', axis=1)"
   ]
  },
  {
   "attachments": {},
   "cell_type": "markdown",
   "metadata": {},
   "source": [
    "COLUMNA `movie_facebook_likes`"
   ]
  },
  {
   "cell_type": "code",
   "execution_count": 58,
   "metadata": {},
   "outputs": [],
   "source": [
    "#Ahora lo hacemos con movie_facebook_likes\n",
    "df['movie_facebook_likes'] = df['movie_facebook_likes'].astype(int) #convertido en entero"
   ]
  },
  {
   "cell_type": "code",
   "execution_count": 59,
   "metadata": {},
   "outputs": [],
   "source": [
    "df.loc[(df['movie_facebook_likes'] < 1000), 'movie_facebook_likes'] = np.NaN\n",
    "#Los valores menores de 1000 me parecen extraños."
   ]
  },
  {
   "cell_type": "code",
   "execution_count": 60,
   "metadata": {},
   "outputs": [],
   "source": [
    "df_mediana = df.movie_facebook_likes.median()\n",
    "df.movie_facebook_likes = df.movie_facebook_likes.fillna(df_mediana)"
   ]
  },
  {
   "attachments": {},
   "cell_type": "markdown",
   "metadata": {},
   "source": [
    "COLUMNA `country`"
   ]
  },
  {
   "cell_type": "code",
   "execution_count": 61,
   "metadata": {},
   "outputs": [
    {
     "name": "stdout",
     "output_type": "stream",
     "text": [
      "country\n",
      "USA               72\n",
      "UK                 6\n",
      "usa                3\n",
      "France             2\n",
      "Germany            1\n",
      "New Zealand        1\n",
      "India              1\n",
      "United States      1\n",
      "Australia          1\n",
      "Czech Republic     1\n",
      "Kyrgyzstan         1\n",
      "Canada             1\n",
      "Name: count, dtype: int64\n"
     ]
    }
   ],
   "source": [
    "with pd.option_context(\"display.max_rows\", None):\n",
    "    print(df['country'].value_counts(dropna=False))"
   ]
  },
  {
   "cell_type": "code",
   "execution_count": 62,
   "metadata": {},
   "outputs": [],
   "source": [
    "paises = {\"USA\" : \"United States\",\n",
    "        \"usa\": \"United States\"\n",
    "}\n",
    "\n",
    "df[\"country\"] = df[\"country\"].replace(paises)"
   ]
  },
  {
   "cell_type": "code",
   "execution_count": 63,
   "metadata": {},
   "outputs": [],
   "source": [
    "df.loc[df['country'] == 'UK', 'country'] = 'United Kingdom'\n",
    "# Así todos los nombres estan completos sin abreviaturas"
   ]
  },
  {
   "attachments": {},
   "cell_type": "markdown",
   "metadata": {},
   "source": [
    "COLUMNA `language`"
   ]
  },
  {
   "cell_type": "code",
   "execution_count": 64,
   "metadata": {},
   "outputs": [
    {
     "name": "stdout",
     "output_type": "stream",
     "text": [
      "language\n",
      "English    91\n",
      "Name: count, dtype: int64\n"
     ]
    }
   ],
   "source": [
    "with pd.option_context(\"display.max_rows\", None):\n",
    "    print(df['language'].value_counts(dropna=False)) #En todas las peliculas se habla en inglés"
   ]
  },
  {
   "attachments": {},
   "cell_type": "markdown",
   "metadata": {},
   "source": [
    "COLUMNA `actors`"
   ]
  },
  {
   "cell_type": "code",
   "execution_count": 65,
   "metadata": {},
   "outputs": [
    {
     "name": "stdout",
     "output_type": "stream",
     "text": [
      "actors\n",
      "Aidan Turner,Adam Brown,James Nesbitt                       3\n",
      "Chris Hemsworth,Robert Downey Jr.,Scarlett Johansson        2\n",
      "Leonardo DiCaprio,Matthew McConaughey,Jon Favreau           1\n",
      "Robert Downey Jr.,Robert Duvall,Leighton Meester            1\n",
      "Brad Pitt,Tye Sheridan,Fiona Shaw                           1\n",
      "Tika Sumpter,Josh Hopkins,Aunjanue Ellis                    1\n",
      "Matthew McConaughey,Donald Watkins,Jessica Collins          1\n",
      "Kate Winslet,Theo James,Mekhi Phifer                        1\n",
      "Tom Hardy,Frank Grillo,Kevin Dunn                           1\n",
      "Ryan Gosling,Ben Mendelsohn,Angelo Anthony Pizza            1\n",
      "Jason Statham,Paul Walker,Vin Diesel                        1\n",
      "James Franco,Julia Roberts,Billy Crudup                     1\n",
      "Terry Pheto,Fana Mokoena,Tony Kgoroge                       1\n",
      "Demián Bichir,Shea Whigham,Gary Stretch                     1\n",
      "Denzel Washington,Bruce Greenwood,Nadine Velazquez          1\n",
      "Morgan Freeman,Ayelet Zurer,Moises Arias                    1\n",
      "Jennifer Lawrence,Josh Hutcherson,Anthony Reynolds          1\n",
      "Emma Stone,Andrew Garfield,B.J. Novak                       1\n",
      "Tom Hanks,Mark Rylance,Amy Ryan                             1\n",
      "Robbie Barnes,Alana Kaniewski,Brandon Landers               1\n",
      "Leonardo DiCaprio,Elizabeth Debicki,Steve Bisley            1\n",
      "Albert Finney,Helen McCrory,Rory Kinnear                    1\n",
      "Jennifer Lawrence,Christian Bale,Bradley Cooper             1\n",
      "Leonardo DiCaprio,Joseph Sikora,Nellie Sciutto              1\n",
      "Anthony Hopkins,Emma Watson,Logan Lerman                    1\n",
      "Johnny Depp,Sam Claflin,Stephen Graham                      1\n",
      "Brad Pitt,Logan Lerman,Jim Parrack                          1\n",
      "Tom Hanks,Chris Mulkey,Michael Chernus                      1\n",
      "Mark Addy,Atom Egoyan,Paul Gross                            1\n",
      "Quvenzhané Wallis,Scoot McNairy,Taran Killam                1\n",
      "Jeremy Renner,Scott Glenn,Stacy Keach                       1\n",
      "Elina Abai Kyzy,Aziz Muradillayev,Mirlan Abdulayev          1\n",
      "Frank Langella,Austin Pendleton,John Buffalo Mailer         1\n",
      "James Martin Kelly,Shane Hartline,Celina Beach              1\n",
      "Scarlett Johansson,Chris Evans,Hayley Atwell                1\n",
      "Harrison Ford,Will Ferrell,Steve Carell                     1\n",
      "Liam Neeson,Charlize Theron,Seth MacFarlane                 1\n",
      "Finn Wittrock,Jack O'Connell,Alex Russell                   1\n",
      "Jennifer Lawrence,Philip Seymour Hoffman,Josh Hutcherson    1\n",
      "Kristen Stewart,Viggo Mortensen,Kirsten Dunst               1\n",
      "Leonardo DiCaprio,Naomi Watts,Kaitlyn Dever                 1\n",
      "Tom Hardy,Fares Fares,Michael Nardone                       1\n",
      "Hugh Jackman,Tao Okamoto,Rila Fukushima                     1\n",
      "Michael Fassbender,Brad Pitt,Goran Visnjic                  1\n",
      "Henry Cavill,Christopher Meloni,Harry Lennix                1\n",
      "Jennifer Lawrence,Michael Fassbender,Tye Sheridan           1\n",
      "Robert Downey Jr.,Jon Favreau,Don Cheadle                   1\n",
      "Ellar Coltrane,Lorelei Linklater,Libby Villari              1\n",
      "Glenn Morshower,Lester Speight,Kevin Dunn                   1\n",
      "Leonardo DiCaprio,Tom Hardy,Lukas Haas                      1\n",
      "Mark Addy,William Hurt,Scott Grimes                         1\n",
      "Jennifer Ehle,Harold Perrineau,Parker Sawyers               1\n",
      "Hugh Jackman,Eddie Redmayne,Anne Hathaway                   1\n",
      "Tom Hardy,Christian Bale,Joseph Gordon-Levitt               1\n",
      "Bingbing Li,Sophia Myles,Kelsey Grammer                     1\n",
      "Leonardo DiCaprio,Christoph Waltz,Ato Essandoh              1\n",
      "Aldis Hodge,Neil Brown Jr.,R. Marcos Taylor                 1\n",
      "Mike Howard,Jeffrey W. Jenkins,Bruce Goodchild              1\n",
      "Matthew McConaughey,Anne Hathaway,Mackenzie Foy             1\n",
      "Roma Downey,Amber Rose Revah,Darwin Shaw                    1\n",
      "Robin Wright,Goran Visnjic,Joely Richardson                 1\n",
      "Tom Hanks,Jim Sturgess,Jim Broadbent                        1\n",
      "Rufus Sewell,Hayley Atwell,Charlotte Rampling               1\n",
      "Henry Cavill,Lauren Cohan,Alan D. Purwin                    1\n",
      "Matt Damon,Kieran Culkin,John Gallagher Jr.                 1\n",
      "Craig Stark,Jennifer Jason Leigh,Zoë Bell                   1\n",
      "Hugh Jackman,Jake Gyllenhaal,Dylan Minnette                 1\n",
      "Mani Bharathi,Michael Lieber,Kevin McGowan                  1\n",
      "Emma Stone,Andrew Garfield,Chris Zylka                      1\n",
      "Matt Damon,Donald Glover,Benedict Wong                      1\n",
      "Mila Kunis,Lili Taylor,Billy Crudup                         1\n",
      "Toby Stephens,James Badge Dale,David Costabile              1\n",
      "Jeremy Irvine,Benedict Cumberbatch,Eddie Marsan             1\n",
      "Jennifer Lawrence,Josh Hutcherson,Sandra Ellis Lafferty     1\n",
      "Emma Stone,Bryce Dallas Howard,Mike Vogel                   1\n",
      "Chris Noth,Liza Minnelli,Kristin Davis                      1\n",
      "Robert Downey Jr.,Scarlett Johansson,Chris Evans            1\n",
      "Christoph Waltz,Rory Kinnear,Stephanie Sigman               1\n",
      "Martin Dew,Katherine Waterston,Serena Scott Thomas          1\n",
      "Leonardo DiCaprio,Tom Hardy,Joseph Gordon-Levitt            1\n",
      "Michael Emerson,Mark Valley,Grey Griffin                    1\n",
      "Jennifer Lawrence,Peter Dinklage,Hugh Jackman               1\n",
      "Patrick Fugit,Sela Ward,Emily Ratajkowski                   1\n",
      "Johnny Depp,Ruth Wilson,Tom Wilkinson                       1\n",
      "Lesley Manville,Ruth Sheen,Karl Johnson                     1\n",
      "Joseph Gordon-Levitt,Hal Holbrook,Bruce McGill              1\n",
      "Christian Bale,María Valverde,Ben Mendelsohn                1\n",
      "Johnny Cannizzaro,Steve Schirripa,Scott Vance               1\n",
      "Name: count, dtype: int64\n"
     ]
    }
   ],
   "source": [
    "with pd.option_context(\"display.max_rows\", None):\n",
    "    print(df['actors'].value_counts(dropna=False))"
   ]
  },
  {
   "cell_type": "code",
   "execution_count": 66,
   "metadata": {},
   "outputs": [
    {
     "name": "stdout",
     "output_type": "stream",
     "text": [
      "    color director_name  duration            gross                   genres   \n",
      "8   Color   Joss Whedon       173  $623,279,547.00  Action|Adventure|Sci-Fi  \\\n",
      "55  Color   Joss Whedon       141  $458,991,599.00  Action|Adventure|Sci-Fi   \n",
      "\n",
      "                movie_title  title_year language        country   \n",
      "8              The Avengers        2012  English  United States  \\\n",
      "55  Avengers: age of Ultron        2015  English  United States   \n",
      "\n",
      "                budget  imdb_score   \n",
      "8   USD 220,000,000.00         8.1  \\\n",
      "55  USD 250,000,000.00         7.5   \n",
      "\n",
      "                                               actors  movie_facebook_likes   \n",
      "8   Chris Hemsworth,Robert Downey Jr.,Scarlett Joh...              123000.0  \\\n",
      "55  Chris Hemsworth,Robert Downey Jr.,Scarlett Joh...              118000.0   \n",
      "\n",
      "    movie_twitter_likes  \n",
      "8                   NaN  \n",
      "55                  NaN  \n"
     ]
    }
   ],
   "source": [
    "filtered_df = df[df['actors'].str.contains('Chris Hemsworth', case=False)]\n",
    "print(filtered_df)\n",
    "#He buscado aquellas pelicualas que los actores se repetian. Son peliculas distintas, segundas partes."
   ]
  },
  {
   "cell_type": "code",
   "execution_count": 69,
   "metadata": {},
   "outputs": [],
   "source": [
    "df['actors'] = df['actors'].str.replace(',', ', ')"
   ]
  },
  {
   "cell_type": "code",
   "execution_count": 70,
   "metadata": {},
   "outputs": [
    {
     "name": "stdout",
     "output_type": "stream",
     "text": [
      "0     Leonardo DiCaprio, Matthew McConaughey, Jon Fa...\n",
      "1           Robert Downey Jr., Jon Favreau, Don Cheadle\n",
      "2           Craig Stark, Jennifer Jason Leigh, Zoë Bell\n",
      "3         Matt Damon, Kieran Culkin, John Gallagher Jr.\n",
      "4               Aidan Turner, Adam Brown, James Nesbitt\n",
      "5            Henry Cavill, Lauren Cohan, Alan D. Purwin\n",
      "6               Aidan Turner, Adam Brown, James Nesbitt\n",
      "7       Rufus Sewell, Hayley Atwell, Charlotte Rampling\n",
      "8     Chris Hemsworth, Robert Downey Jr., Scarlett J...\n",
      "9                Tom Hanks, Jim Sturgess, Jim Broadbent\n",
      "10        Robin Wright, Goran Visnjic, Joely Richardson\n",
      "11           Roma Downey, Amber Rose Revah, Darwin Shaw\n",
      "12    Matthew McConaughey, Anne Hathaway, Mackenzie Foy\n",
      "13        Aldis Hodge, Neil Brown Jr., R. Marcos Taylor\n",
      "14     Ellar Coltrane, Lorelei Linklater, Libby Villari\n",
      "15     Leonardo DiCaprio, Christoph Waltz, Ato Essandoh\n",
      "16            Bingbing Li, Sophia Myles, Kelsey Grammer\n",
      "17      Tom Hardy, Christian Bale, Joseph Gordon-Levitt\n",
      "18              Aidan Turner, Adam Brown, James Nesbitt\n",
      "19          Hugh Jackman, Eddie Redmayne, Anne Hathaway\n",
      "20      Jennifer Ehle, Harold Perrineau, Parker Sawyers\n",
      "21                Mark Addy, William Hurt, Scott Grimes\n",
      "22             Leonardo DiCaprio, Tom Hardy, Lukas Haas\n",
      "23          Glenn Morshower, Lester Speight, Kevin Dunn\n",
      "24        Hugh Jackman, Jake Gyllenhaal, Dylan Minnette\n",
      "25         Mani Bharathi, Michael Lieber, Kevin McGowan\n",
      "26             Emma Stone, Andrew Garfield, Chris Zylka\n",
      "27             Matt Damon, Donald Glover, Benedict Wong\n",
      "28       Christian Bale, María Valverde, Ben Mendelsohn\n",
      "29     Joseph Gordon-Levitt, Hal Holbrook, Bruce McGill\n",
      "30            Lesley Manville, Ruth Sheen, Karl Johnson\n",
      "31              Johnny Depp, Ruth Wilson, Tom Wilkinson\n",
      "32          Patrick Fugit, Sela Ward, Emily Ratajkowski\n",
      "33      Jennifer Lawrence, Peter Dinklage, Hugh Jackman\n",
      "34           Michael Emerson, Mark Valley, Grey Griffin\n",
      "35    Leonardo DiCaprio, Tom Hardy, Joseph Gordon-Le...\n",
      "36    Martin Dew, Katherine Waterston, Serena Scott ...\n",
      "37      Christoph Waltz, Rory Kinnear, Stephanie Sigman\n",
      "38    Robert Downey Jr., Scarlett Johansson, Chris E...\n",
      "39             Chris Noth, Liza Minnelli, Kristin Davis\n",
      "40          Emma Stone, Bryce Dallas Howard, Mike Vogel\n",
      "41    Jennifer Lawrence, Josh Hutcherson, Sandra Ell...\n",
      "42    Jeremy Irvine, Benedict Cumberbatch, Eddie Marsan\n",
      "43     Toby Stephens, James Badge Dale, David Costabile\n",
      "44                Mila Kunis, Lili Taylor, Billy Crudup\n",
      "45     Mike Howard, Jeffrey W. Jenkins, Bruce Goodchild\n",
      "46    Jennifer Lawrence, Michael Fassbender, Tye She...\n",
      "47            Harrison Ford, Will Ferrell, Steve Carell\n",
      "48       Henry Cavill, Christopher Meloni, Harry Lennix\n",
      "49           Albert Finney, Helen McCrory, Rory Kinnear\n",
      "50    Leonardo DiCaprio, Elizabeth Debicki, Steve Bi...\n",
      "51      Robbie Barnes, Alana Kaniewski, Brandon Landers\n",
      "52                    Tom Hanks, Mark Rylance, Amy Ryan\n",
      "53              Emma Stone, Andrew Garfield, B.J. Novak\n",
      "54    Jennifer Lawrence, Josh Hutcherson, Anthony Re...\n",
      "55    Chris Hemsworth, Robert Downey Jr., Scarlett J...\n",
      "56           Morgan Freeman, Ayelet Zurer, Moises Arias\n",
      "57              Terry Pheto, Fana Mokoena, Tony Kgoroge\n",
      "58            Demián Bichir, Shea Whigham, Gary Stretch\n",
      "59    Robert Downey Jr., Robert Duvall, Leighton Mee...\n",
      "60            James Franco, Julia Roberts, Billy Crudup\n",
      "61               Jason Statham, Paul Walker, Vin Diesel\n",
      "62    Ryan Gosling, Ben Mendelsohn, Angelo Anthony P...\n",
      "63                  Tom Hardy, Frank Grillo, Kevin Dunn\n",
      "64               Kate Winslet, Theo James, Mekhi Phifer\n",
      "65    Matthew McConaughey, Donald Watkins, Jessica C...\n",
      "66           Tika Sumpter, Josh Hopkins, Aunjanue Ellis\n",
      "67                  Brad Pitt, Tye Sheridan, Fiona Shaw\n",
      "68    Jennifer Lawrence, Christian Bale, Bradley Cooper\n",
      "69    Denzel Washington, Bruce Greenwood, Nadine Vel...\n",
      "70           Anthony Hopkins, Emma Watson, Logan Lerman\n",
      "71     Leonardo DiCaprio, Joseph Sikora, Nellie Sciutto\n",
      "72         Michael Fassbender, Brad Pitt, Goran Visnjic\n",
      "73            Hugh Jackman, Tao Okamoto, Rila Fukushima\n",
      "74              Tom Hardy, Fares Fares, Michael Nardone\n",
      "75        Leonardo DiCaprio, Naomi Watts, Kaitlyn Dever\n",
      "76      Kristen Stewart, Viggo Mortensen, Kirsten Dunst\n",
      "77    Jennifer Lawrence, Philip Seymour Hoffman, Jos...\n",
      "78          Finn Wittrock, Jack O'Connell, Alex Russell\n",
      "79        Liam Neeson, Charlize Theron, Seth MacFarlane\n",
      "80       Scarlett Johansson, Chris Evans, Hayley Atwell\n",
      "81             Johnny Depp, Sam Claflin, Stephen Graham\n",
      "82     James Martin Kelly, Shane Hartline, Celina Beach\n",
      "83    Frank Langella, Austin Pendleton, John Buffalo...\n",
      "84    Elina Abai Kyzy, Aziz Muradillayev, Mirlan Abd...\n",
      "85              Jeremy Renner, Scott Glenn, Stacy Keach\n",
      "86       Quvenzhané Wallis, Scoot McNairy, Taran Killam\n",
      "87                   Mark Addy, Atom Egoyan, Paul Gross\n",
      "88             Tom Hanks, Chris Mulkey, Michael Chernus\n",
      "89                 Brad Pitt, Logan Lerman, Jim Parrack\n",
      "90      Johnny Cannizzaro, Steve Schirripa, Scott Vance\n",
      "Name: actors, dtype: object\n"
     ]
    }
   ],
   "source": [
    "with pd.option_context(\"display.max_rows\", None):\n",
    "    print(df['actors'])"
   ]
  },
  {
   "attachments": {},
   "cell_type": "markdown",
   "metadata": {},
   "source": [
    "COLUMNA `imdb_score`"
   ]
  },
  {
   "cell_type": "code",
   "execution_count": 71,
   "metadata": {},
   "outputs": [
    {
     "name": "stdout",
     "output_type": "stream",
     "text": [
      "imdb_score\n",
      " 6.7    9\n",
      " 8.1    8\n",
      " 7.3    7\n",
      " 7.9    5\n",
      " 7.2    5\n",
      " 7.6    4\n",
      " 6.5    4\n",
      " 6.1    4\n",
      " 7.4    4\n",
      " 8.2    3\n",
      " 6.3    3\n",
      " 7.8    3\n",
      " 6.9    3\n",
      " 8.5    2\n",
      " 7.5    2\n",
      " 8.0    2\n",
      " 7.0    2\n",
      " 6.6    2\n",
      " 6.8    2\n",
      " 5.7    2\n",
      " 7.1    2\n",
      " 5.8    1\n",
      " 5.9    1\n",
      "-1.2    1\n",
      " 6.4    1\n",
      " 5.3    1\n",
      " 8.8    1\n",
      " 3.0    1\n",
      " 4.3    1\n",
      " 8.4    1\n",
      "-7.5    1\n",
      " 5.6    1\n",
      " 8.6    1\n",
      " 8.7    1\n",
      "Name: count, dtype: int64\n"
     ]
    }
   ],
   "source": [
    "with pd.option_context(\"display.max_rows\", None):\n",
    "    print(df['imdb_score'].value_counts(dropna=False))"
   ]
  },
  {
   "cell_type": "code",
   "execution_count": 72,
   "metadata": {},
   "outputs": [],
   "source": [
    "df['imdb_score'] = df['imdb_score'].abs() #Convierte los números negativos en positivos"
   ]
  },
  {
   "attachments": {},
   "cell_type": "markdown",
   "metadata": {},
   "source": [
    "COLUMNA `duration`"
   ]
  },
  {
   "cell_type": "code",
   "execution_count": 73,
   "metadata": {},
   "outputs": [
    {
     "name": "stdout",
     "output_type": "stream",
     "text": [
      "duration\n",
      " 138    6\n",
      " 141    5\n",
      " 136    5\n",
      " 137    5\n",
      " 143    5\n",
      " 134    4\n",
      " 148    4\n",
      " 146    4\n",
      " 139    4\n",
      " 144    4\n",
      " 140    4\n",
      " 142    3\n",
      " 153    3\n",
      " 150    3\n",
      " 165    2\n",
      " 149    2\n",
      " 164    2\n",
      " 158    2\n",
      " 156    2\n",
      " 135    2\n",
      " 186    2\n",
      " 147    1\n",
      " 240    1\n",
      " 650    1\n",
      " 151    1\n",
      " 195    1\n",
      " 154    1\n",
      " 157    1\n",
      " 580    1\n",
      " 167    1\n",
      " 169    1\n",
      " 170    1\n",
      " 172    1\n",
      " 173    1\n",
      " 180    1\n",
      "-50     1\n",
      " 183    1\n",
      " 187    1\n",
      " 5      1\n",
      "Name: count, dtype: int64\n"
     ]
    }
   ],
   "source": [
    "with pd.option_context(\"display.max_rows\", None):\n",
    "    print(df['duration'].value_counts(dropna=False))"
   ]
  },
  {
   "cell_type": "code",
   "execution_count": 74,
   "metadata": {},
   "outputs": [],
   "source": [
    "df['duration'] = df['duration'].astype(int)"
   ]
  },
  {
   "cell_type": "code",
   "execution_count": 75,
   "metadata": {},
   "outputs": [],
   "source": [
    "df.loc[(df['duration'] < 60), 'duration'] = np.NaN\n",
    "#Es raro que una pelicula dure menos de 60 minutos.\n"
   ]
  }
 ],
 "metadata": {
  "kernelspec": {
   "display_name": "base",
   "language": "python",
   "name": "python3"
  },
  "language_info": {
   "codemirror_mode": {
    "name": "ipython",
    "version": 3
   },
   "file_extension": ".py",
   "mimetype": "text/x-python",
   "name": "python",
   "nbconvert_exporter": "python",
   "pygments_lexer": "ipython3",
   "version": "3.10.9"
  },
  "orig_nbformat": 4
 },
 "nbformat": 4,
 "nbformat_minor": 2
}
